{
  "nbformat": 4,
  "nbformat_minor": 0,
  "metadata": {
    "colab": {
      "provenance": []
    },
    "kernelspec": {
      "name": "python3",
      "display_name": "Python 3"
    },
    "language_info": {
      "name": "python"
    }
  },
  "cells": [
    {
      "cell_type": "code",
      "execution_count": null,
      "metadata": {
        "id": "qwm70T1dIRve"
      },
      "outputs": [],
      "source": [
        "# Import necessary libraries\n",
        "import pandas as pd\n",
        "import numpy as np\n",
        "from sklearn.model_selection import train_test_split\n",
        "from sklearn.preprocessing import MinMaxScaler\n",
        "from tensorflow.keras.models import Sequential\n",
        "from tensorflow.keras.layers import LSTM, Dense\n",
        "from flask import Flask, render_template, request, jsonify\n",
        "\n",
        "# Load your attendance dataset\n",
        "dataset = pd.read_csv('attendence_sheet.csv')\n",
        "\n",
        "# Preprocess the data\n",
        "dataset['date'] = pd.to_datetime(dataset['date'])\n",
        "dataset.set_index('date', inplace=True)\n",
        "\n",
        "# Feature scaling\n",
        "scaler = MinMaxScaler()\n",
        "dataset_scaled = scaler.fit_transform(dataset[['attendance']])\n",
        "\n",
        "# Create sequences for time-series prediction\n",
        "sequence_length = 10  # You can adjust this based on your data\n",
        "X, y = [], []\n",
        "for i in range(len(dataset_scaled) - sequence_length):\n",
        "    X.append(dataset_scaled[i:i+sequence_length])\n",
        "    y.append(dataset_scaled[i+sequence_length])\n",
        "\n",
        "X, y = np.array(X), np.array(y)\n",
        "\n",
        "# Split the data into training and testing sets\n",
        "X_train, X_test, y_train, y_test = train_test_split(X, y, test_size=0.2, random_state=42)\n",
        "\n",
        "# Build an LSTM model\n",
        "model = Sequential()\n",
        "model.add(LSTM(units=50, activation='relu', input_shape=(X_train.shape[1], X_train.shape[2])))\n",
        "model.add(Dense(units=1))\n",
        "model.compile(optimizer='adam', loss='mean_squared_error')\n",
        "model.fit(X_train, y_train, epochs=50, batch_size=32, validation_data=(X_test, y_test))\n",
        "\n",
        "# Flask Web Application\n",
        "app = Flask(__name__)\n",
        "\n",
        "# Define routes\n",
        "@app.route('/')\n",
        "def index():\n",
        "    return render_template('index.html')\n",
        "\n",
        "@app.route('/predict', methods=['POST'])\n",
        "def predict():\n",
        "    if request.method == 'POST':\n",
        "        # Get input data from the form\n",
        "        admission_no = request.form['admission_no']\n",
        "        date = pd.to_datetime(request.form['date'])\n",
        "\n",
        "        # Prepare input for prediction\n",
        "        input_data = dataset.loc[dataset['admission_no'] == admission_no]['attendance'].values[-sequence_length:]\n",
        "        input_data = scaler.transform(input_data.reshape(-1, 1)).reshape(1, sequence_length, 1)\n",
        "\n",
        "        # Make a prediction\n",
        "        prediction = model.predict(input_data)\n",
        "        predicted_attendance = scaler.inverse_transform(prediction)[0][0]\n",
        "\n",
        "        # You can now use the predicted_attendance in your application\n",
        "\n",
        "        return render_template('result.html', admission_no=admission_no, date=date, predicted_attendance=predicted_attendance)\n",
        "\n",
        "if __name__ == '__main__':\n",
        "    app.run(debug=True)\n"
      ]
    }
  ]
}